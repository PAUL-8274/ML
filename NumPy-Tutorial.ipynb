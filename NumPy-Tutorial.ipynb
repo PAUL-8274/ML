{
 "cells": [
  {
   "cell_type": "markdown",
   "metadata": {},
   "source": [
    "#### Introduction to Numpy"
   ]
  },
  {
   "cell_type": "code",
   "execution_count": 1,
   "metadata": {},
   "outputs": [],
   "source": [
    "# Load the numpy library\n",
    "import numpy as np"
   ]
  },
  {
   "cell_type": "code",
   "execution_count": 2,
   "metadata": {},
   "outputs": [
    {
     "data": {
      "text/plain": [
       "'1.16.4'"
      ]
     },
     "execution_count": 2,
     "metadata": {},
     "output_type": "execute_result"
    }
   ],
   "source": [
    "# Check the version\n",
    "np.__version__"
   ]
  },
  {
   "cell_type": "code",
   "execution_count": 4,
   "metadata": {},
   "outputs": [
    {
     "data": {
      "text/plain": [
       "[0, 1, 2, 3, 4, 5, 6, 7, 8, 9]"
      ]
     },
     "execution_count": 4,
     "metadata": {},
     "output_type": "execute_result"
    }
   ],
   "source": [
    "# Create a list of 10 numbers\n",
    "create_list = list(range(10))\n",
    "create_list"
   ]
  },
  {
   "cell_type": "code",
   "execution_count": 4,
   "metadata": {},
   "outputs": [
    {
     "name": "stdout",
     "output_type": "stream",
     "text": [
      "Items in the list:  [0, 1, 2, 3, 4, 5, 6, 7, 8, 9]\n"
     ]
    }
   ],
   "source": [
    "print(\"Items in the list: \", create_list)"
   ]
  },
  {
   "cell_type": "code",
   "execution_count": 5,
   "metadata": {},
   "outputs": [],
   "source": [
    "# Function to print datatypes of list\n",
    "def print_dtypes(l):\n",
    "    for item in l:\n",
    "        print(type(item))"
   ]
  },
  {
   "cell_type": "code",
   "execution_count": 6,
   "metadata": {},
   "outputs": [
    {
     "name": "stdout",
     "output_type": "stream",
     "text": [
      "<class 'int'>\n",
      "<class 'int'>\n",
      "<class 'int'>\n",
      "<class 'int'>\n",
      "<class 'int'>\n",
      "<class 'int'>\n",
      "<class 'int'>\n",
      "<class 'int'>\n",
      "<class 'int'>\n",
      "<class 'int'>\n"
     ]
    }
   ],
   "source": [
    "# Check the datatypes of the list\n",
    "print_dtypes(create_list)"
   ]
  },
  {
   "cell_type": "code",
   "execution_count": 7,
   "metadata": {},
   "outputs": [],
   "source": [
    "# Let's try to create list with different datatypes\n",
    "list_hetrogeneous = [1, \"2\", \"A\", 3, {\"A\" :3, \"B\":4}, 9, (10, 20, 30, 40), True]  #it has boolean valus,dict,string,integer,tuple ,thats why it is called heterozeneous list"
   ]
  },
  {
   "cell_type": "code",
   "execution_count": 8,
   "metadata": {},
   "outputs": [
    {
     "name": "stdout",
     "output_type": "stream",
     "text": [
      "Heterogeneous List:\n",
      " [1, '2', 'A', 3, {'A': 3, 'B': 4}, 9, (10, 20, 30, 40), True]\n"
     ]
    }
   ],
   "source": [
    "# Print hetrogeneous list\n",
    "print(\"Heterogeneous List:\\n\", list_hetrogeneous)"
   ]
  },
  {
   "cell_type": "code",
   "execution_count": 9,
   "metadata": {},
   "outputs": [
    {
     "name": "stdout",
     "output_type": "stream",
     "text": [
      "<class 'int'>\n",
      "<class 'str'>\n",
      "<class 'str'>\n",
      "<class 'int'>\n",
      "<class 'dict'>\n",
      "<class 'int'>\n",
      "<class 'tuple'>\n",
      "<class 'bool'>\n"
     ]
    }
   ],
   "source": [
    "# Check the Datatypes in the hetrogeneous list\n",
    "print_dtypes(list_hetrogeneous)"
   ]
  },
  {
   "cell_type": "markdown",
   "metadata": {},
   "source": [
    "#### Creating Numpy arrays"
   ]
  },
  {
   "cell_type": "markdown",
   "metadata": {},
   "source": [
    "Unlike lists, numpy arrays are homogeneous in nature that means they comprise of only one data type like integer/ float/ double/ string/ boolean etc..."
   ]
  },
  {
   "cell_type": "code",
   "execution_count": null,
   "metadata": {},
   "outputs": [
    {
     "data": {
      "text/plain": [
       "array([['1', '2', '3'],\n",
       "       ['A', 'B', 'C']],\n",
       "      dtype='<U21')"
      ]
     },
     "execution_count": 10,
     "metadata": {},
     "output_type": "execute_result"
    }
   ],
   "source": [
    "# Let's try to create numpy array with different datatypes\n",
    "np.array([[1, 2, 3],\n",
    "         [\"A\", \"B\", \"C\"]])"
   ]
  },
  {
   "cell_type": "markdown",
   "metadata": {},
   "source": [
    "As you can see above numpy converted integers to strings to make array homogeneous"
   ]
  },
  {
   "cell_type": "markdown",
   "metadata": {},
   "source": [
    "Let's try to create some numpy arrays"
   ]
  },
  {
   "cell_type": "code",
   "execution_count": 12,
   "metadata": {},
   "outputs": [
    {
     "name": "stdout",
     "output_type": "stream",
     "text": [
      "[1 1 1 1 1]\n",
      "[0 0 0 0 0 0]\n"
     ]
    }
   ],
   "source": [
    "# creating array with 5 one's of type int\n",
    "print(np.ones(5, dtype='int'))\n",
    "print(np.zeros(6,dtype=\"int\"))"
   ]
  },
  {
   "cell_type": "code",
   "execution_count": 14,
   "metadata": {},
   "outputs": [
    {
     "name": "stdout",
     "output_type": "stream",
     "text": [
      "[0. 0. 0. 0.]\n"
     ]
    }
   ],
   "source": [
    "# creating array with 5 zero's of type float\n",
    "np.zeros(5, dtype='float')\n",
    "print(np.zeros(4))"
   ]
  },
  {
   "cell_type": "code",
   "execution_count": 13,
   "metadata": {},
   "outputs": [
    {
     "data": {
      "text/plain": [
       "array([[1., 0.],\n",
       "       [0., 1.]])"
      ]
     },
     "execution_count": 13,
     "metadata": {},
     "output_type": "execute_result"
    }
   ],
   "source": [
    "#Lets create an identity matrix of 2x2\n",
    "np.eye(2)"
   ]
  },
  {
   "cell_type": "markdown",
   "metadata": {},
   "source": [
    "Understanding the importance of np.random.seed()"
   ]
  },
  {
   "cell_type": "code",
   "execution_count": 36,
   "metadata": {},
   "outputs": [
    {
     "data": {
      "text/plain": [
       "array([[ 1.3315865 ,  0.71527897, -1.54540029, -0.00838385,  0.62133597],\n",
       "       [-0.72008556,  0.26551159,  0.10854853,  0.00429143, -0.17460021],\n",
       "       [ 0.43302619,  1.20303737, -0.96506567,  1.02827408,  0.22863013],\n",
       "       [ 0.44513761, -1.13660221,  0.13513688,  1.484537  , -1.07980489],\n",
       "       [-1.97772828, -1.7433723 ,  0.26607016,  2.38496733,  1.12369125]])"
      ]
     },
     "execution_count": 36,
     "metadata": {},
     "output_type": "execute_result"
    }
   ],
   "source": [
    "# create a 5x5 array with elements taken from normal distribution of mean 0 and standard deviation 1 \n",
    "# Setting random.seed()\n",
    "np.random.seed(10)\n",
    "x = np.random.normal(0, 1, (5,5))\n",
    "x"
   ]
  },
  {
   "cell_type": "code",
   "execution_count": 31,
   "metadata": {},
   "outputs": [
    {
     "data": {
      "text/plain": [
       "array([[-0.84090138,  1.0055851 , -1.02380418,  0.18177391, -0.41668095],\n",
       "       [ 1.97840875,  1.91744468, -1.031007  , -0.48331191, -0.64508015],\n",
       "       [ 0.06034816,  0.54793044,  0.84514847, -1.20718132,  0.37484034],\n",
       "       [ 0.94234783, -0.35126393,  0.45973503, -0.04851666,  0.41548191],\n",
       "       [-0.70187614,  0.18546447,  0.46834978,  0.03952335,  0.71614054]])"
      ]
     },
     "execution_count": 31,
     "metadata": {},
     "output_type": "execute_result"
    }
   ],
   "source": [
    "# create a 5x5 array with elements taken from normal distribution of mean 0 and standard deviation 1 \n",
    "x = np.random.normal(0, 1, (5,5))\n",
    "x"
   ]
  },
  {
   "cell_type": "markdown",
   "metadata": {},
   "source": [
    "As you can see x contains different values than we created above since we did not set seed value.\n",
    "With different seed value numpy generates different numbers."
   ]
  },
  {
   "cell_type": "code",
   "execution_count": 37,
   "metadata": {},
   "outputs": [
    {
     "data": {
      "text/plain": [
       "array([[ 0.88389311,  0.19586502,  0.35753652, -2.34326191, -1.08483259],\n",
       "       [ 0.55969629,  0.93946935, -0.97848104,  0.50309684,  0.40641447],\n",
       "       [ 0.32346101, -0.49341088, -0.79201679, -0.84236793, -1.27950266],\n",
       "       [ 0.24571517, -0.0441948 ,  1.56763255,  1.05110868,  0.40636843],\n",
       "       [-0.1686461 , -3.18970279,  1.12013226,  1.33277821, -0.24333877]])"
      ]
     },
     "execution_count": 37,
     "metadata": {},
     "output_type": "execute_result"
    }
   ],
   "source": [
    "# create a 5x5 array with elements taken from normal distribution of mean 0 and standard deviation 1 \n",
    "np.random.seed(20)\n",
    "x = np.random.normal(0, 1, (5,5))\n",
    "x"
   ]
  },
  {
   "cell_type": "markdown",
   "metadata": {},
   "source": [
    "Set the same seed value if you want to generate same random numbers. \n",
    "Let's try with seed=10."
   ]
  },
  {
   "cell_type": "code",
   "execution_count": 38,
   "metadata": {},
   "outputs": [
    {
     "data": {
      "text/plain": [
       "array([[ 1.3315865 ,  0.71527897, -1.54540029, -0.00838385,  0.62133597],\n",
       "       [-0.72008556,  0.26551159,  0.10854853,  0.00429143, -0.17460021],\n",
       "       [ 0.43302619,  1.20303737, -0.96506567,  1.02827408,  0.22863013],\n",
       "       [ 0.44513761, -1.13660221,  0.13513688,  1.484537  , -1.07980489],\n",
       "       [-1.97772828, -1.7433723 ,  0.26607016,  2.38496733,  1.12369125]])"
      ]
     },
     "execution_count": 38,
     "metadata": {},
     "output_type": "execute_result"
    }
   ],
   "source": [
    "# create a 5x5 array with elements taken from normal distribution of mean 0 and standard deviation 1 \n",
    "np.random.seed(10)\n",
    "x = np.random.normal(0, 1, (5,5))\n",
    "x"
   ]
  },
  {
   "cell_type": "markdown",
   "metadata": {},
   "source": [
    "seed = 20"
   ]
  },
  {
   "cell_type": "code",
   "execution_count": 39,
   "metadata": {
    "scrolled": true
   },
   "outputs": [
    {
     "data": {
      "text/plain": [
       "array([[ 0.88389311,  0.19586502,  0.35753652, -2.34326191, -1.08483259],\n",
       "       [ 0.55969629,  0.93946935, -0.97848104,  0.50309684,  0.40641447],\n",
       "       [ 0.32346101, -0.49341088, -0.79201679, -0.84236793, -1.27950266],\n",
       "       [ 0.24571517, -0.0441948 ,  1.56763255,  1.05110868,  0.40636843],\n",
       "       [-0.1686461 , -3.18970279,  1.12013226,  1.33277821, -0.24333877]])"
      ]
     },
     "execution_count": 39,
     "metadata": {},
     "output_type": "execute_result"
    }
   ],
   "source": [
    "# create a 5x5 array with elements taken from normal distribution of mean 0 and standard deviation 1 \n",
    "np.random.seed(20)\n",
    "x = np.random.normal(0, 1, (5,5))\n",
    "x"
   ]
  },
  {
   "cell_type": "code",
   "execution_count": 40,
   "metadata": {},
   "outputs": [
    {
     "name": "stdout",
     "output_type": "stream",
     "text": [
      "Shape of x is: (5, 5)\n"
     ]
    }
   ],
   "source": [
    "# Check the shapes of created numpy arrays\n",
    "print(\"Shape of x is:\", x.shape)"
   ]
  },
  {
   "cell_type": "markdown",
   "metadata": {},
   "source": [
    "#### Array Indexing "
   ]
  },
  {
   "cell_type": "markdown",
   "metadata": {},
   "source": [
    "Indexing in python starts from 0."
   ]
  },
  {
   "cell_type": "code",
   "execution_count": 41,
   "metadata": {},
   "outputs": [],
   "source": [
    "# Let's create 1-D array with alphabets\n",
    "x = np.array([\"A\", \"B\", \"C\", \"D\", \"E\", \"F\", \"G\"])"
   ]
  },
  {
   "cell_type": "code",
   "execution_count": 42,
   "metadata": {},
   "outputs": [
    {
     "data": {
      "text/plain": [
       "'A'"
      ]
     },
     "execution_count": 42,
     "metadata": {},
     "output_type": "execute_result"
    }
   ],
   "source": [
    "# Get value of first element\n",
    "x[0]"
   ]
  },
  {
   "cell_type": "code",
   "execution_count": 43,
   "metadata": {},
   "outputs": [
    {
     "data": {
      "text/plain": [
       "'B'"
      ]
     },
     "execution_count": 43,
     "metadata": {},
     "output_type": "execute_result"
    }
   ],
   "source": [
    "# Get value at second element\n",
    "x[1]"
   ]
  },
  {
   "cell_type": "code",
   "execution_count": 44,
   "metadata": {},
   "outputs": [
    {
     "data": {
      "text/plain": [
       "'G'"
      ]
     },
     "execution_count": 44,
     "metadata": {},
     "output_type": "execute_result"
    }
   ],
   "source": [
    "# Get value of first element from last \n",
    "x[-1]"
   ]
  },
  {
   "cell_type": "code",
   "execution_count": 45,
   "metadata": {},
   "outputs": [
    {
     "data": {
      "text/plain": [
       "'F'"
      ]
     },
     "execution_count": 45,
     "metadata": {},
     "output_type": "execute_result"
    }
   ],
   "source": [
    "# Get value of second element from last \n",
    "x[-2]"
   ]
  },
  {
   "cell_type": "code",
   "execution_count": 46,
   "metadata": {},
   "outputs": [
    {
     "data": {
      "text/plain": [
       "array([[ 1.3315865 ,  0.71527897],\n",
       "       [-1.54540029, -0.00838385]])"
      ]
     },
     "execution_count": 46,
     "metadata": {},
     "output_type": "execute_result"
    }
   ],
   "source": [
    "# Let's create 2-D array\n",
    "np.random.seed(10)\n",
    "y = np.random.normal(0, 1, (2,2))\n",
    "y"
   ]
  },
  {
   "cell_type": "code",
   "execution_count": 47,
   "metadata": {},
   "outputs": [
    {
     "data": {
      "text/plain": [
       "1.331586504129518"
      ]
     },
     "execution_count": 47,
     "metadata": {},
     "output_type": "execute_result"
    }
   ],
   "source": [
    "# Get value of 1st row and 1st column\n",
    "y[0, 0]"
   ]
  },
  {
   "cell_type": "code",
   "execution_count": 48,
   "metadata": {},
   "outputs": [
    {
     "data": {
      "text/plain": [
       "-0.008383849928522256"
      ]
     },
     "execution_count": 48,
     "metadata": {},
     "output_type": "execute_result"
    }
   ],
   "source": [
    "# Get value of last row and last column\n",
    "y[-1, -1]"
   ]
  },
  {
   "cell_type": "markdown",
   "metadata": {},
   "source": [
    "#### Array Slicing "
   ]
  },
  {
   "cell_type": "markdown",
   "metadata": {},
   "source": [
    "Access multiple elements of the array "
   ]
  },
  {
   "cell_type": "code",
   "execution_count": 49,
   "metadata": {},
   "outputs": [
    {
     "data": {
      "text/plain": [
       "array([10, 11, 12, 13, 14, 15, 16, 17, 18, 19, 20, 21, 22, 23, 24, 25, 26,\n",
       "       27, 28, 29])"
      ]
     },
     "execution_count": 49,
     "metadata": {},
     "output_type": "execute_result"
    }
   ],
   "source": [
    "# Create 1-D array of 20 elements from 10-30\n",
    "x = np.arange(10, 30)\n",
    "x"
   ]
  },
  {
   "cell_type": "code",
   "execution_count": 50,
   "metadata": {},
   "outputs": [
    {
     "data": {
      "text/plain": [
       "array([10, 11, 12, 13, 14])"
      ]
     },
     "execution_count": 50,
     "metadata": {},
     "output_type": "execute_result"
    }
   ],
   "source": [
    "# Access elements till 4th position\n",
    "x[ : 5]"
   ]
  },
  {
   "cell_type": "code",
   "execution_count": 51,
   "metadata": {},
   "outputs": [
    {
     "data": {
      "text/plain": [
       "array([20, 21, 22, 23, 24, 25, 26, 27, 28, 29])"
      ]
     },
     "execution_count": 51,
     "metadata": {},
     "output_type": "execute_result"
    }
   ],
   "source": [
    "# Access elements from 10th position\n",
    "x[10 : ]"
   ]
  },
  {
   "cell_type": "code",
   "execution_count": 60,
   "metadata": {},
   "outputs": [
    {
     "name": "stdout",
     "output_type": "stream",
     "text": [
      "29\n"
     ]
    }
   ],
   "source": [
    "# Access elements from 14th to 19th position\n",
    "x[14 : 19]\n",
    "print(x[-1])"
   ]
  },
  {
   "cell_type": "code",
   "execution_count": 55,
   "metadata": {},
   "outputs": [
    {
     "name": "stdout",
     "output_type": "stream",
     "text": [
      "[10 11 12 13 14 15 16 17 18 19 20 21 22 23 24 25 26 27 28 29]\n"
     ]
    },
    {
     "data": {
      "text/plain": [
       "array([29, 28, 27, 26, 25, 24, 23, 22, 21, 20, 19, 18, 17, 16, 15, 14, 13,\n",
       "       12, 11, 10])"
      ]
     },
     "execution_count": 55,
     "metadata": {},
     "output_type": "execute_result"
    }
   ],
   "source": [
    "# Reverse the array\n",
    "print(x)\n",
    "x[::-1]"
   ]
  },
  {
   "cell_type": "markdown",
   "metadata": {},
   "source": [
    "#### Array Concatenation"
   ]
  },
  {
   "cell_type": "markdown",
   "metadata": {},
   "source": [
    "Array Concatenation = Combining 2 or more arrays, that's it."
   ]
  },
  {
   "cell_type": "code",
   "execution_count": 58,
   "metadata": {},
   "outputs": [
    {
     "name": "stdout",
     "output_type": "stream",
     "text": [
      "['1' '2' '3' '4' '5' '6' 'A' 'B' 'C']\n",
      "['paul' 'xerexes' 'das' 'lonely' 'solo']\n"
     ]
    }
   ],
   "source": [
    "# You can concatenate two or more arrays at once.\n",
    "\n",
    "arr_1 = np.array([1,2,3])\n",
    "arr_2 = np.array([4,5,6])\n",
    "arr_3 = np.array(['A','B', 'C'])\n",
    "\n",
    "print(np.concatenate([arr_1, arr_2, arr_3]))\n",
    "\n",
    "arr_4=np.array([\"paul\",\"xerexes\",\"das\"])\n",
    "arr_5=np.array([\"lonely\",\"solo\"])\n",
    "arr_6=np.concatenate([arr_4,arr_5])\n",
    "print(arr_6)\n"
   ]
  },
  {
   "cell_type": "code",
   "execution_count": 59,
   "metadata": {},
   "outputs": [
    {
     "name": "stdout",
     "output_type": "stream",
     "text": [
      "[['I' 'Love' 'ML']\n",
      " ['not' 'you' 'girl']]\n"
     ]
    },
    {
     "data": {
      "text/plain": [
       "array([['I', 'Love', 'ML'],\n",
       "       ['not', 'you', 'girl'],\n",
       "       ['I', 'Love', 'ML'],\n",
       "       ['not', 'you', 'girl']], dtype='<U4')"
      ]
     },
     "execution_count": 59,
     "metadata": {},
     "output_type": "execute_result"
    }
   ],
   "source": [
    "# You can also use this function to create 2-dimensional arrays.\n",
    "\n",
    "matrix = np.array([[\"I\", \"Love\", \"ML\"],[\"not\", \"you\", \"girl\"]])\n",
    "print(matrix)\n",
    "np.concatenate([matrix, matrix])"
   ]
  },
  {
   "cell_type": "code",
   "execution_count": 62,
   "metadata": {},
   "outputs": [
    {
     "name": "stdout",
     "output_type": "stream",
     "text": [
      "[['I' 'Love' 'ML']\n",
      " ['not' 'you' 'girl']\n",
      " ['I' 'Love' 'ML']\n",
      " ['not' 'you' 'girl']]\n",
      " size of concatenated_matrix_axis_0 =  (4, 3)\n"
     ]
    }
   ],
   "source": [
    "# Using its axis parameter, you can define row-wise or column-wise matrix.\n",
    "\n",
    "# Example showing concatinating two 2-d arrays one below the other.\n",
    "\n",
    "concatenated_matrix_axis_0 = np.concatenate([matrix, matrix],axis=0)\n",
    "\n",
    "print(concatenated_matrix_axis_0)\n",
    "\n",
    "print (\" size of concatenated_matrix_axis_0 = \", concatenated_matrix_axis_0.shape)  #4 rows and 3 columns\n"
   ]
  },
  {
   "cell_type": "code",
   "execution_count": 63,
   "metadata": {},
   "outputs": [
    {
     "name": "stdout",
     "output_type": "stream",
     "text": [
      "[['I' 'Love' 'ML' 'I' 'Love' 'ML']\n",
      " ['not' 'you' 'girl' 'not' 'you' 'girl']]\n",
      "size of concatenated_matrix_axis_1 = (2, 6)\n"
     ]
    }
   ],
   "source": [
    "# Example showing concatinating two 2-d arrays one after/adjacent the other\n",
    "\n",
    "concatenated_matrix_axis_1 = np.concatenate([matrix, matrix],axis=1)\n",
    "\n",
    "print(concatenated_matrix_axis_1)\n",
    "\n",
    "print (\"size of concatenated_matrix_axis_1 =\", concatenated_matrix_axis_1.shape)"
   ]
  },
  {
   "cell_type": "markdown",
   "metadata": {},
   "source": [
    "Until now, we used the concatenation function of arrays of equal dimension. "
   ]
  },
  {
   "cell_type": "markdown",
   "metadata": {},
   "source": [
    "How can we combine a 1-D array and 2-D array."
   ]
  },
  {
   "cell_type": "markdown",
   "metadata": {},
   "source": [
    "np.vstack or np.hstack help us in such situations. "
   ]
  },
  {
   "cell_type": "markdown",
   "metadata": {},
   "source": [
    "Let us see how."
   ]
  },
  {
   "cell_type": "code",
   "execution_count": 66,
   "metadata": {},
   "outputs": [
    {
     "name": "stdout",
     "output_type": "stream",
     "text": [
      "[ 9 10 11]\n",
      "[[12 13 14]\n",
      " [15 16 17]]\n",
      "[[ 9 10 11]\n",
      " [12 13 14]\n",
      " [15 16 17]]\n",
      "Shape of stacked array: (3, 3)\n"
     ]
    }
   ],
   "source": [
    "# Stack using vstack\n",
    "\n",
    "x = np.array([9, 10, 11])\n",
    "matrix = np.array([[12, 13, 14],[15, 16, 17]])\n",
    "print(x)\n",
    "print(matrix)\n",
    "vstack_example = np.vstack([x, matrix])\n",
    "\n",
    "print(vstack_example)\n",
    "print(\"Shape of stacked array:\", vstack_example.shape)"
   ]
  },
  {
   "cell_type": "code",
   "execution_count": 68,
   "metadata": {},
   "outputs": [
    {
     "name": "stdout",
     "output_type": "stream",
     "text": [
      "[[0]\n",
      " [0]]\n",
      "[[12 13 14]\n",
      " [15 16 17]]\n",
      "[[12 13 14  0]\n",
      " [15 16 17  0]]\n",
      "Shape of stacked array: (2, 4)\n"
     ]
    }
   ],
   "source": [
    "# Stack using hstack\n",
    "\n",
    "z = np.array([[0], [0]])\n",
    "print(z)\n",
    "print(matrix)\n",
    "hstack_example = np.hstack([matrix, z])\n",
    "\n",
    "print(hstack_example)\n",
    "print(\"Shape of stacked array:\", hstack_example.shape)"
   ]
  },
  {
   "cell_type": "markdown",
   "metadata": {},
   "source": [
    "Excercise: "
   ]
  },
  {
   "cell_type": "markdown",
   "metadata": {},
   "source": [
    "    1) Create a 1-D array and split them into three 1-D arrays.\n",
    "    2) Create a 2-D array of size 10x10 and split them into two 2-D arrays."
   ]
  },
  {
   "cell_type": "markdown",
   "metadata": {},
   "source": [
    "Hint: Explore np.split() and np.vsplit()"
   ]
  },
  {
   "cell_type": "code",
   "execution_count": 73,
   "metadata": {},
   "outputs": [
    {
     "name": "stdout",
     "output_type": "stream",
     "text": [
      "[1 2 3]\n"
     ]
    },
    {
     "data": {
      "text/plain": [
       "[array([1]), array([2]), array([3])]"
      ]
     },
     "execution_count": 73,
     "metadata": {},
     "output_type": "execute_result"
    }
   ],
   "source": [
    "a=np.array([1,2,3])\n",
    "print(a)\n",
    "np.split(a,3)"
   ]
  },
  {
   "cell_type": "code",
   "execution_count": 77,
   "metadata": {},
   "outputs": [
    {
     "name": "stdout",
     "output_type": "stream",
     "text": [
      "[[-0.47140008  0.34947641  1.61145729  0.23933927  0.48500263 -1.65860471\n",
      "   2.67991031 -1.10352213  1.81778261 -0.55604734]\n",
      " [ 0.95771124  0.81522068  0.0643194  -0.16640537 -0.94070977 -0.0535945\n",
      "   1.1011362   0.37212255 -0.88346099  1.15805157]\n",
      " [-1.20365349  0.20983914 -0.89118692 -0.78268775  1.07973068 -0.46284089\n",
      "  -1.51507568 -0.53871853  0.75662186 -0.72939922]\n",
      " [ 1.21478265  1.00828297  0.07328301  1.17373241  1.86295167 -1.9836365\n",
      "   1.15668893  0.60928227 -0.32320123  0.66414561]\n",
      " [ 0.39672599 -0.57611686  1.48821839  0.14024687  1.18831675 -0.24574539\n",
      "  -1.63558662  0.24479809 -0.23508223 -1.26082781]\n",
      " [-1.69196793  0.61645092  1.26969128  1.39733798  0.53422496  0.00410204\n",
      "   0.18941984  0.04477469  0.79468527 -0.49314074]\n",
      " [-1.26158974 -0.21926026  0.19727222 -0.25528045  0.02580759  2.20096644\n",
      "   0.8843676  -1.38682253  0.65366231 -2.17660863]\n",
      " [ 0.61894892  0.4772343   0.02609653 -0.96970567 -0.98372812  0.41253272\n",
      "  -0.61430485  0.83708178 -0.62361901 -0.3631862 ]\n",
      " [ 0.75947133 -0.033927   -0.16640069  0.26957242  0.37530555 -0.08391524\n",
      "   0.22612635 -0.11588073  0.41160241  0.28781043]\n",
      " [ 0.50427148  0.80426736 -1.03060821 -1.35769756 -0.26650187 -0.1712928\n",
      "   0.46238555 -1.21985553  0.19257284  0.43545039]]\n",
      "[array([[-0.47140008,  0.34947641,  1.61145729,  0.23933927,  0.48500263,\n",
      "        -1.65860471,  2.67991031, -1.10352213,  1.81778261, -0.55604734],\n",
      "       [ 0.95771124,  0.81522068,  0.0643194 , -0.16640537, -0.94070977,\n",
      "        -0.0535945 ,  1.1011362 ,  0.37212255, -0.88346099,  1.15805157],\n",
      "       [-1.20365349,  0.20983914, -0.89118692, -0.78268775,  1.07973068,\n",
      "        -0.46284089, -1.51507568, -0.53871853,  0.75662186, -0.72939922],\n",
      "       [ 1.21478265,  1.00828297,  0.07328301,  1.17373241,  1.86295167,\n",
      "        -1.9836365 ,  1.15668893,  0.60928227, -0.32320123,  0.66414561],\n",
      "       [ 0.39672599, -0.57611686,  1.48821839,  0.14024687,  1.18831675,\n",
      "        -0.24574539, -1.63558662,  0.24479809, -0.23508223, -1.26082781]]), array([[-1.69196793,  0.61645092,  1.26969128,  1.39733798,  0.53422496,\n",
      "         0.00410204,  0.18941984,  0.04477469,  0.79468527, -0.49314074],\n",
      "       [-1.26158974, -0.21926026,  0.19727222, -0.25528045,  0.02580759,\n",
      "         2.20096644,  0.8843676 , -1.38682253,  0.65366231, -2.17660863],\n",
      "       [ 0.61894892,  0.4772343 ,  0.02609653, -0.96970567, -0.98372812,\n",
      "         0.41253272, -0.61430485,  0.83708178, -0.62361901, -0.3631862 ],\n",
      "       [ 0.75947133, -0.033927  , -0.16640069,  0.26957242,  0.37530555,\n",
      "        -0.08391524,  0.22612635, -0.11588073,  0.41160241,  0.28781043],\n",
      "       [ 0.50427148,  0.80426736, -1.03060821, -1.35769756, -0.26650187,\n",
      "        -0.1712928 ,  0.46238555, -1.21985553,  0.19257284,  0.43545039]])]\n"
     ]
    }
   ],
   "source": [
    "c=np.random.normal(0,1,(10,10))\n",
    "print(c)\n",
    "d=np.vsplit(c,2)\n",
    "print(d)"
   ]
  },
  {
   "cell_type": "code",
   "execution_count": null,
   "metadata": {},
   "outputs": [],
   "source": []
  },
  {
   "cell_type": "code",
   "execution_count": null,
   "metadata": {},
   "outputs": [],
   "source": []
  }
 ],
 "metadata": {
  "anaconda-cloud": {},
  "kernelspec": {
   "display_name": "Python 3",
   "language": "python",
   "name": "python3"
  },
  "language_info": {
   "codemirror_mode": {
    "name": "ipython",
    "version": 3
   },
   "file_extension": ".py",
   "mimetype": "text/x-python",
   "name": "python",
   "nbconvert_exporter": "python",
   "pygments_lexer": "ipython3",
   "version": "3.7.3"
  }
 },
 "nbformat": 4,
 "nbformat_minor": 1
}
